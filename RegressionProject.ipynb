{
 "cells": [
  {
   "cell_type": "code",
   "execution_count": 477,
   "id": "5d870f9d",
   "metadata": {},
   "outputs": [],
   "source": [
    "import matplotlib.pyplot as plt\n",
    "import pandas as pd\n",
    "import pylab as pl\n",
    "import numpy as np\n",
    "import seaborn as sns\n",
    "from sklearn.preprocessing import LabelEncoder\n",
    "from sklearn import linear_model\n",
    "from sklearn.metrics import mean_squared_error,r2_score\n",
    "%matplotlib inline"
   ]
  },
  {
   "cell_type": "code",
   "execution_count": 478,
   "id": "643145c2",
   "metadata": {},
   "outputs": [
    {
     "data": {
      "text/html": [
       "<div>\n",
       "<style scoped>\n",
       "    .dataframe tbody tr th:only-of-type {\n",
       "        vertical-align: middle;\n",
       "    }\n",
       "\n",
       "    .dataframe tbody tr th {\n",
       "        vertical-align: top;\n",
       "    }\n",
       "\n",
       "    .dataframe thead th {\n",
       "        text-align: right;\n",
       "    }\n",
       "</style>\n",
       "<table border=\"1\" class=\"dataframe\">\n",
       "  <thead>\n",
       "    <tr style=\"text-align: right;\">\n",
       "      <th></th>\n",
       "      <th>Area</th>\n",
       "      <th>Room</th>\n",
       "      <th>Parking</th>\n",
       "      <th>Warehouse</th>\n",
       "      <th>Elevator</th>\n",
       "      <th>Address</th>\n",
       "      <th>Price</th>\n",
       "      <th>Price(USD)</th>\n",
       "    </tr>\n",
       "  </thead>\n",
       "  <tbody>\n",
       "    <tr>\n",
       "      <th>0</th>\n",
       "      <td>63</td>\n",
       "      <td>1</td>\n",
       "      <td>True</td>\n",
       "      <td>True</td>\n",
       "      <td>True</td>\n",
       "      <td>Shahran</td>\n",
       "      <td>1.850000e+09</td>\n",
       "      <td>61666.67</td>\n",
       "    </tr>\n",
       "    <tr>\n",
       "      <th>1</th>\n",
       "      <td>60</td>\n",
       "      <td>1</td>\n",
       "      <td>True</td>\n",
       "      <td>True</td>\n",
       "      <td>True</td>\n",
       "      <td>Shahran</td>\n",
       "      <td>1.850000e+09</td>\n",
       "      <td>61666.67</td>\n",
       "    </tr>\n",
       "    <tr>\n",
       "      <th>2</th>\n",
       "      <td>79</td>\n",
       "      <td>2</td>\n",
       "      <td>True</td>\n",
       "      <td>True</td>\n",
       "      <td>True</td>\n",
       "      <td>Pardis</td>\n",
       "      <td>5.500000e+08</td>\n",
       "      <td>18333.33</td>\n",
       "    </tr>\n",
       "    <tr>\n",
       "      <th>3</th>\n",
       "      <td>95</td>\n",
       "      <td>2</td>\n",
       "      <td>True</td>\n",
       "      <td>True</td>\n",
       "      <td>True</td>\n",
       "      <td>Shahrake Qods</td>\n",
       "      <td>9.025000e+08</td>\n",
       "      <td>30083.33</td>\n",
       "    </tr>\n",
       "    <tr>\n",
       "      <th>4</th>\n",
       "      <td>123</td>\n",
       "      <td>2</td>\n",
       "      <td>True</td>\n",
       "      <td>True</td>\n",
       "      <td>True</td>\n",
       "      <td>Shahrake Gharb</td>\n",
       "      <td>7.000000e+09</td>\n",
       "      <td>233333.33</td>\n",
       "    </tr>\n",
       "  </tbody>\n",
       "</table>\n",
       "</div>"
      ],
      "text/plain": [
       "  Area  Room  Parking  Warehouse  Elevator         Address         Price  \\\n",
       "0   63     1     True       True      True         Shahran  1.850000e+09   \n",
       "1   60     1     True       True      True         Shahran  1.850000e+09   \n",
       "2   79     2     True       True      True          Pardis  5.500000e+08   \n",
       "3   95     2     True       True      True   Shahrake Qods  9.025000e+08   \n",
       "4  123     2     True       True      True  Shahrake Gharb  7.000000e+09   \n",
       "\n",
       "   Price(USD)  \n",
       "0    61666.67  \n",
       "1    61666.67  \n",
       "2    18333.33  \n",
       "3    30083.33  \n",
       "4   233333.33  "
      ]
     },
     "execution_count": 478,
     "metadata": {},
     "output_type": "execute_result"
    }
   ],
   "source": [
    "df=pd.read_csv('E:/ml/regression.csv')\n",
    "df.head()"
   ]
  },
  {
   "cell_type": "code",
   "execution_count": 479,
   "id": "8fbc5998",
   "metadata": {},
   "outputs": [
    {
     "data": {
      "text/plain": [
       "(3479, 8)"
      ]
     },
     "execution_count": 479,
     "metadata": {},
     "output_type": "execute_result"
    }
   ],
   "source": [
    "df.shape"
   ]
  },
  {
   "cell_type": "code",
   "execution_count": 480,
   "id": "7a5d4daf",
   "metadata": {},
   "outputs": [
    {
     "name": "stdout",
     "output_type": "stream",
     "text": [
      "<class 'pandas.core.frame.DataFrame'>\n",
      "RangeIndex: 3479 entries, 0 to 3478\n",
      "Data columns (total 8 columns):\n",
      " #   Column      Non-Null Count  Dtype  \n",
      "---  ------      --------------  -----  \n",
      " 0   Area        3479 non-null   object \n",
      " 1   Room        3479 non-null   int64  \n",
      " 2   Parking     3479 non-null   bool   \n",
      " 3   Warehouse   3479 non-null   bool   \n",
      " 4   Elevator    3479 non-null   bool   \n",
      " 5   Address     3456 non-null   object \n",
      " 6   Price       3479 non-null   float64\n",
      " 7   Price(USD)  3479 non-null   float64\n",
      "dtypes: bool(3), float64(2), int64(1), object(2)\n",
      "memory usage: 146.2+ KB\n"
     ]
    }
   ],
   "source": [
    "df.info()"
   ]
  },
  {
   "cell_type": "code",
   "execution_count": 481,
   "id": "f2dca7b8",
   "metadata": {},
   "outputs": [
    {
     "data": {
      "text/html": [
       "<div>\n",
       "<style scoped>\n",
       "    .dataframe tbody tr th:only-of-type {\n",
       "        vertical-align: middle;\n",
       "    }\n",
       "\n",
       "    .dataframe tbody tr th {\n",
       "        vertical-align: top;\n",
       "    }\n",
       "\n",
       "    .dataframe thead th {\n",
       "        text-align: right;\n",
       "    }\n",
       "</style>\n",
       "<table border=\"1\" class=\"dataframe\">\n",
       "  <thead>\n",
       "    <tr style=\"text-align: right;\">\n",
       "      <th></th>\n",
       "      <th>Room</th>\n",
       "      <th>Price</th>\n",
       "      <th>Price(USD)</th>\n",
       "    </tr>\n",
       "  </thead>\n",
       "  <tbody>\n",
       "    <tr>\n",
       "      <th>count</th>\n",
       "      <td>3479.000000</td>\n",
       "      <td>3.479000e+03</td>\n",
       "      <td>3.479000e+03</td>\n",
       "    </tr>\n",
       "    <tr>\n",
       "      <th>mean</th>\n",
       "      <td>2.079908</td>\n",
       "      <td>5.359023e+09</td>\n",
       "      <td>1.786341e+05</td>\n",
       "    </tr>\n",
       "    <tr>\n",
       "      <th>std</th>\n",
       "      <td>0.758275</td>\n",
       "      <td>8.099935e+09</td>\n",
       "      <td>2.699978e+05</td>\n",
       "    </tr>\n",
       "    <tr>\n",
       "      <th>min</th>\n",
       "      <td>0.000000</td>\n",
       "      <td>3.600000e+06</td>\n",
       "      <td>1.200000e+02</td>\n",
       "    </tr>\n",
       "    <tr>\n",
       "      <th>25%</th>\n",
       "      <td>2.000000</td>\n",
       "      <td>1.418250e+09</td>\n",
       "      <td>4.727500e+04</td>\n",
       "    </tr>\n",
       "    <tr>\n",
       "      <th>50%</th>\n",
       "      <td>2.000000</td>\n",
       "      <td>2.900000e+09</td>\n",
       "      <td>9.666667e+04</td>\n",
       "    </tr>\n",
       "    <tr>\n",
       "      <th>75%</th>\n",
       "      <td>2.000000</td>\n",
       "      <td>6.000000e+09</td>\n",
       "      <td>2.000000e+05</td>\n",
       "    </tr>\n",
       "    <tr>\n",
       "      <th>max</th>\n",
       "      <td>5.000000</td>\n",
       "      <td>9.240000e+10</td>\n",
       "      <td>3.080000e+06</td>\n",
       "    </tr>\n",
       "  </tbody>\n",
       "</table>\n",
       "</div>"
      ],
      "text/plain": [
       "              Room         Price    Price(USD)\n",
       "count  3479.000000  3.479000e+03  3.479000e+03\n",
       "mean      2.079908  5.359023e+09  1.786341e+05\n",
       "std       0.758275  8.099935e+09  2.699978e+05\n",
       "min       0.000000  3.600000e+06  1.200000e+02\n",
       "25%       2.000000  1.418250e+09  4.727500e+04\n",
       "50%       2.000000  2.900000e+09  9.666667e+04\n",
       "75%       2.000000  6.000000e+09  2.000000e+05\n",
       "max       5.000000  9.240000e+10  3.080000e+06"
      ]
     },
     "execution_count": 481,
     "metadata": {},
     "output_type": "execute_result"
    }
   ],
   "source": [
    "df.describe()"
   ]
  },
  {
   "cell_type": "code",
   "execution_count": 482,
   "id": "45f3d2d5",
   "metadata": {},
   "outputs": [],
   "source": [
    "df['Area']=df['Area'].apply(lambda X:int(X.replace(',','')))"
   ]
  },
  {
   "cell_type": "code",
   "execution_count": 483,
   "id": "8168e6a1",
   "metadata": {},
   "outputs": [
    {
     "data": {
      "text/plain": [
       "<seaborn.axisgrid.PairGrid at 0x11a7c8268e0>"
      ]
     },
     "execution_count": 483,
     "metadata": {},
     "output_type": "execute_result"
    },
    {
     "data": {
      "image/png": "[encoded data removed]",
      "text/plain": [
       "<Figure size 1260x1260 with 56 Axes>"
      ]
     },
     "metadata": {
      "needs_background": "light"
     },
     "output_type": "display_data"
    }
   ],
   "source": [
    "sns.pairplot(df,diag_kind='kde')"
   ]
  },
  {
   "cell_type": "code",
   "execution_count": 484,
   "id": "ff2a3c8a",
   "metadata": {},
   "outputs": [
    {
     "data": {
      "text/plain": [
       "<AxesSubplot:>"
      ]
     },
     "execution_count": 484,
     "metadata": {},
     "output_type": "execute_result"
    },
    {
     "data": {
      "image/png": "[encoded data removed]",
      "text/plain": [
       "<Figure size 432x288 with 2 Axes>"
      ]
     },
     "metadata": {
      "needs_background": "light"
     },
     "output_type": "display_data"
    }
   ],
   "source": [
    "sns.heatmap(df.corr(),annot=True,cmap='Greens')"
   ]
  },
  {
   "cell_type": "code",
   "execution_count": 485,
   "id": "2b314028",
   "metadata": {},
   "outputs": [
    {
     "data": {
      "text/html": [
       "<div>\n",
       "<style scoped>\n",
       "    .dataframe tbody tr th:only-of-type {\n",
       "        vertical-align: middle;\n",
       "    }\n",
       "\n",
       "    .dataframe tbody tr th {\n",
       "        vertical-align: top;\n",
       "    }\n",
       "\n",
       "    .dataframe thead th {\n",
       "        text-align: right;\n",
       "    }\n",
       "</style>\n",
       "<table border=\"1\" class=\"dataframe\">\n",
       "  <thead>\n",
       "    <tr style=\"text-align: right;\">\n",
       "      <th></th>\n",
       "      <th>Area</th>\n",
       "      <th>Room</th>\n",
       "      <th>Parking</th>\n",
       "      <th>Warehouse</th>\n",
       "      <th>Elevator</th>\n",
       "      <th>Address</th>\n",
       "      <th>Price</th>\n",
       "      <th>Price(USD)</th>\n",
       "    </tr>\n",
       "  </thead>\n",
       "  <tbody>\n",
       "    <tr>\n",
       "      <th>0</th>\n",
       "      <td>False</td>\n",
       "      <td>False</td>\n",
       "      <td>False</td>\n",
       "      <td>False</td>\n",
       "      <td>False</td>\n",
       "      <td>False</td>\n",
       "      <td>False</td>\n",
       "      <td>False</td>\n",
       "    </tr>\n",
       "    <tr>\n",
       "      <th>1</th>\n",
       "      <td>False</td>\n",
       "      <td>False</td>\n",
       "      <td>False</td>\n",
       "      <td>False</td>\n",
       "      <td>False</td>\n",
       "      <td>False</td>\n",
       "      <td>False</td>\n",
       "      <td>False</td>\n",
       "    </tr>\n",
       "    <tr>\n",
       "      <th>2</th>\n",
       "      <td>False</td>\n",
       "      <td>False</td>\n",
       "      <td>False</td>\n",
       "      <td>False</td>\n",
       "      <td>False</td>\n",
       "      <td>False</td>\n",
       "      <td>False</td>\n",
       "      <td>False</td>\n",
       "    </tr>\n",
       "    <tr>\n",
       "      <th>3</th>\n",
       "      <td>False</td>\n",
       "      <td>False</td>\n",
       "      <td>False</td>\n",
       "      <td>False</td>\n",
       "      <td>False</td>\n",
       "      <td>False</td>\n",
       "      <td>False</td>\n",
       "      <td>False</td>\n",
       "    </tr>\n",
       "    <tr>\n",
       "      <th>4</th>\n",
       "      <td>False</td>\n",
       "      <td>False</td>\n",
       "      <td>False</td>\n",
       "      <td>False</td>\n",
       "      <td>False</td>\n",
       "      <td>False</td>\n",
       "      <td>False</td>\n",
       "      <td>False</td>\n",
       "    </tr>\n",
       "    <tr>\n",
       "      <th>...</th>\n",
       "      <td>...</td>\n",
       "      <td>...</td>\n",
       "      <td>...</td>\n",
       "      <td>...</td>\n",
       "      <td>...</td>\n",
       "      <td>...</td>\n",
       "      <td>...</td>\n",
       "      <td>...</td>\n",
       "    </tr>\n",
       "    <tr>\n",
       "      <th>3474</th>\n",
       "      <td>False</td>\n",
       "      <td>False</td>\n",
       "      <td>False</td>\n",
       "      <td>False</td>\n",
       "      <td>False</td>\n",
       "      <td>False</td>\n",
       "      <td>False</td>\n",
       "      <td>False</td>\n",
       "    </tr>\n",
       "    <tr>\n",
       "      <th>3475</th>\n",
       "      <td>False</td>\n",
       "      <td>False</td>\n",
       "      <td>False</td>\n",
       "      <td>False</td>\n",
       "      <td>False</td>\n",
       "      <td>False</td>\n",
       "      <td>False</td>\n",
       "      <td>False</td>\n",
       "    </tr>\n",
       "    <tr>\n",
       "      <th>3476</th>\n",
       "      <td>False</td>\n",
       "      <td>False</td>\n",
       "      <td>False</td>\n",
       "      <td>False</td>\n",
       "      <td>False</td>\n",
       "      <td>False</td>\n",
       "      <td>False</td>\n",
       "      <td>False</td>\n",
       "    </tr>\n",
       "    <tr>\n",
       "      <th>3477</th>\n",
       "      <td>False</td>\n",
       "      <td>False</td>\n",
       "      <td>False</td>\n",
       "      <td>False</td>\n",
       "      <td>False</td>\n",
       "      <td>False</td>\n",
       "      <td>False</td>\n",
       "      <td>False</td>\n",
       "    </tr>\n",
       "    <tr>\n",
       "      <th>3478</th>\n",
       "      <td>False</td>\n",
       "      <td>False</td>\n",
       "      <td>False</td>\n",
       "      <td>False</td>\n",
       "      <td>False</td>\n",
       "      <td>False</td>\n",
       "      <td>False</td>\n",
       "      <td>False</td>\n",
       "    </tr>\n",
       "  </tbody>\n",
       "</table>\n",
       "<p>3479 rows × 8 columns</p>\n",
       "</div>"
      ],
      "text/plain": [
       "       Area   Room  Parking  Warehouse  Elevator  Address  Price  Price(USD)\n",
       "0     False  False    False      False     False    False  False       False\n",
       "1     False  False    False      False     False    False  False       False\n",
       "2     False  False    False      False     False    False  False       False\n",
       "3     False  False    False      False     False    False  False       False\n",
       "4     False  False    False      False     False    False  False       False\n",
       "...     ...    ...      ...        ...       ...      ...    ...         ...\n",
       "3474  False  False    False      False     False    False  False       False\n",
       "3475  False  False    False      False     False    False  False       False\n",
       "3476  False  False    False      False     False    False  False       False\n",
       "3477  False  False    False      False     False    False  False       False\n",
       "3478  False  False    False      False     False    False  False       False\n",
       "\n",
       "[3479 rows x 8 columns]"
      ]
     },
     "execution_count": 485,
     "metadata": {},
     "output_type": "execute_result"
    }
   ],
   "source": [
    "df.isnull()"
   ]
  },
  {
   "cell_type": "code",
   "execution_count": 486,
   "id": "6b605044",
   "metadata": {},
   "outputs": [
    {
     "data": {
      "text/plain": [
       "Area           0\n",
       "Room           0\n",
       "Parking        0\n",
       "Warehouse      0\n",
       "Elevator       0\n",
       "Address       23\n",
       "Price          0\n",
       "Price(USD)     0\n",
       "dtype: int64"
      ]
     },
     "execution_count": 486,
     "metadata": {},
     "output_type": "execute_result"
    }
   ],
   "source": [
    "df.isnull().sum()"
   ]
  },
  {
   "cell_type": "code",
   "execution_count": 487,
   "id": "1891a9de",
   "metadata": {},
   "outputs": [
    {
     "data": {
      "text/plain": [
       "<AxesSubplot:>"
      ]
     },
     "execution_count": 487,
     "metadata": {},
     "output_type": "execute_result"
    },
    {
     "data": {
      "image/png": "[encoded data removed]",
      "text/plain": [
       "<Figure size 432x288 with 1 Axes>"
      ]
     },
     "metadata": {
      "needs_background": "light"
     },
     "output_type": "display_data"
    }
   ],
   "source": [
    "sns.heatmap(df.isnull(),yticklabels=False,cbar=False)"
   ]
  },
  {
   "cell_type": "code",
   "execution_count": 488,
   "id": "4fe47dc4",
   "metadata": {},
   "outputs": [],
   "source": [
    "def missing_percent(df):\n",
    "    nan_percent = 100*(df.isnull().sum()/len(df))\n",
    "    nan_percent = nan_percent[nan_percent>0].sort_values()\n",
    "    return nan_percent"
   ]
  },
  {
   "cell_type": "code",
   "execution_count": 489,
   "id": "545b0b51",
   "metadata": {},
   "outputs": [],
   "source": [
    "nan_percent=missing_percent(df)"
   ]
  },
  {
   "cell_type": "code",
   "execution_count": 490,
   "id": "634779f8",
   "metadata": {},
   "outputs": [
    {
     "data": {
      "text/plain": [
       "Address    0.66111\n",
       "dtype: float64"
      ]
     },
     "execution_count": 490,
     "metadata": {},
     "output_type": "execute_result"
    }
   ],
   "source": [
    "nan_percent"
   ]
  },
  {
   "cell_type": "code",
   "execution_count": 491,
   "id": "d806f971",
   "metadata": {},
   "outputs": [
    {
     "data": {
      "text/plain": [
       "Address    0.66111\n",
       "dtype: float64"
      ]
     },
     "execution_count": 491,
     "metadata": {},
     "output_type": "execute_result"
    }
   ],
   "source": [
    "nan_percent[nan_percent<1]"
   ]
  },
  {
   "cell_type": "code",
   "execution_count": 492,
   "id": "9cd236c2",
   "metadata": {},
   "outputs": [
    {
     "data": {
      "text/plain": [
       "Index(['Address'], dtype='object')"
      ]
     },
     "execution_count": 492,
     "metadata": {},
     "output_type": "execute_result"
    }
   ],
   "source": [
    "nan_percent[nan_percent<1].index"
   ]
  },
  {
   "cell_type": "code",
   "execution_count": 493,
   "id": "1d6ad04e",
   "metadata": {},
   "outputs": [
    {
     "data": {
      "text/html": [
       "<div>\n",
       "<style scoped>\n",
       "    .dataframe tbody tr th:only-of-type {\n",
       "        vertical-align: middle;\n",
       "    }\n",
       "\n",
       "    .dataframe tbody tr th {\n",
       "        vertical-align: top;\n",
       "    }\n",
       "\n",
       "    .dataframe thead th {\n",
       "        text-align: right;\n",
       "    }\n",
       "</style>\n",
       "<table border=\"1\" class=\"dataframe\">\n",
       "  <thead>\n",
       "    <tr style=\"text-align: right;\">\n",
       "      <th></th>\n",
       "      <th>Area</th>\n",
       "      <th>Room</th>\n",
       "      <th>Parking</th>\n",
       "      <th>Warehouse</th>\n",
       "      <th>Elevator</th>\n",
       "      <th>Address</th>\n",
       "      <th>Price</th>\n",
       "      <th>Price(USD)</th>\n",
       "    </tr>\n",
       "  </thead>\n",
       "  <tbody>\n",
       "    <tr>\n",
       "      <th>43</th>\n",
       "      <td>60</td>\n",
       "      <td>2</td>\n",
       "      <td>True</td>\n",
       "      <td>True</td>\n",
       "      <td>True</td>\n",
       "      <td>NaN</td>\n",
       "      <td>2.650000e+09</td>\n",
       "      <td>88333.33</td>\n",
       "    </tr>\n",
       "    <tr>\n",
       "      <th>662</th>\n",
       "      <td>85</td>\n",
       "      <td>2</td>\n",
       "      <td>True</td>\n",
       "      <td>True</td>\n",
       "      <td>True</td>\n",
       "      <td>NaN</td>\n",
       "      <td>1.955000e+09</td>\n",
       "      <td>65166.67</td>\n",
       "    </tr>\n",
       "    <tr>\n",
       "      <th>706</th>\n",
       "      <td>117</td>\n",
       "      <td>2</td>\n",
       "      <td>True</td>\n",
       "      <td>True</td>\n",
       "      <td>True</td>\n",
       "      <td>NaN</td>\n",
       "      <td>6.500000e+09</td>\n",
       "      <td>216666.67</td>\n",
       "    </tr>\n",
       "    <tr>\n",
       "      <th>1108</th>\n",
       "      <td>77</td>\n",
       "      <td>2</td>\n",
       "      <td>True</td>\n",
       "      <td>True</td>\n",
       "      <td>False</td>\n",
       "      <td>NaN</td>\n",
       "      <td>2.020000e+09</td>\n",
       "      <td>67333.33</td>\n",
       "    </tr>\n",
       "    <tr>\n",
       "      <th>1109</th>\n",
       "      <td>71</td>\n",
       "      <td>1</td>\n",
       "      <td>True</td>\n",
       "      <td>True</td>\n",
       "      <td>True</td>\n",
       "      <td>NaN</td>\n",
       "      <td>2.300000e+09</td>\n",
       "      <td>76666.67</td>\n",
       "    </tr>\n",
       "    <tr>\n",
       "      <th>1577</th>\n",
       "      <td>100</td>\n",
       "      <td>2</td>\n",
       "      <td>True</td>\n",
       "      <td>True</td>\n",
       "      <td>True</td>\n",
       "      <td>NaN</td>\n",
       "      <td>3.100000e+09</td>\n",
       "      <td>103333.33</td>\n",
       "    </tr>\n",
       "    <tr>\n",
       "      <th>1796</th>\n",
       "      <td>70</td>\n",
       "      <td>2</td>\n",
       "      <td>True</td>\n",
       "      <td>True</td>\n",
       "      <td>True</td>\n",
       "      <td>NaN</td>\n",
       "      <td>4.830000e+09</td>\n",
       "      <td>161000.00</td>\n",
       "    </tr>\n",
       "    <tr>\n",
       "      <th>2071</th>\n",
       "      <td>94</td>\n",
       "      <td>2</td>\n",
       "      <td>True</td>\n",
       "      <td>True</td>\n",
       "      <td>True</td>\n",
       "      <td>NaN</td>\n",
       "      <td>3.000000e+09</td>\n",
       "      <td>100000.00</td>\n",
       "    </tr>\n",
       "    <tr>\n",
       "      <th>2072</th>\n",
       "      <td>99</td>\n",
       "      <td>2</td>\n",
       "      <td>True</td>\n",
       "      <td>True</td>\n",
       "      <td>True</td>\n",
       "      <td>NaN</td>\n",
       "      <td>4.150000e+09</td>\n",
       "      <td>138333.33</td>\n",
       "    </tr>\n",
       "    <tr>\n",
       "      <th>2127</th>\n",
       "      <td>63</td>\n",
       "      <td>1</td>\n",
       "      <td>True</td>\n",
       "      <td>True</td>\n",
       "      <td>False</td>\n",
       "      <td>NaN</td>\n",
       "      <td>7.300000e+08</td>\n",
       "      <td>24333.33</td>\n",
       "    </tr>\n",
       "    <tr>\n",
       "      <th>2243</th>\n",
       "      <td>62</td>\n",
       "      <td>2</td>\n",
       "      <td>True</td>\n",
       "      <td>False</td>\n",
       "      <td>True</td>\n",
       "      <td>NaN</td>\n",
       "      <td>1.440000e+09</td>\n",
       "      <td>48000.00</td>\n",
       "    </tr>\n",
       "    <tr>\n",
       "      <th>2337</th>\n",
       "      <td>42</td>\n",
       "      <td>1</td>\n",
       "      <td>False</td>\n",
       "      <td>True</td>\n",
       "      <td>False</td>\n",
       "      <td>NaN</td>\n",
       "      <td>6.400000e+08</td>\n",
       "      <td>21333.33</td>\n",
       "    </tr>\n",
       "    <tr>\n",
       "      <th>2426</th>\n",
       "      <td>65</td>\n",
       "      <td>1</td>\n",
       "      <td>False</td>\n",
       "      <td>False</td>\n",
       "      <td>False</td>\n",
       "      <td>NaN</td>\n",
       "      <td>6.500000e+08</td>\n",
       "      <td>21666.67</td>\n",
       "    </tr>\n",
       "    <tr>\n",
       "      <th>2728</th>\n",
       "      <td>85</td>\n",
       "      <td>2</td>\n",
       "      <td>True</td>\n",
       "      <td>True</td>\n",
       "      <td>True</td>\n",
       "      <td>NaN</td>\n",
       "      <td>6.750000e+08</td>\n",
       "      <td>22500.00</td>\n",
       "    </tr>\n",
       "    <tr>\n",
       "      <th>3025</th>\n",
       "      <td>89</td>\n",
       "      <td>2</td>\n",
       "      <td>True</td>\n",
       "      <td>True</td>\n",
       "      <td>True</td>\n",
       "      <td>NaN</td>\n",
       "      <td>3.100000e+09</td>\n",
       "      <td>103333.33</td>\n",
       "    </tr>\n",
       "    <tr>\n",
       "      <th>3176</th>\n",
       "      <td>74</td>\n",
       "      <td>2</td>\n",
       "      <td>True</td>\n",
       "      <td>True</td>\n",
       "      <td>True</td>\n",
       "      <td>NaN</td>\n",
       "      <td>1.699010e+09</td>\n",
       "      <td>56633.67</td>\n",
       "    </tr>\n",
       "    <tr>\n",
       "      <th>3262</th>\n",
       "      <td>115</td>\n",
       "      <td>2</td>\n",
       "      <td>True</td>\n",
       "      <td>True</td>\n",
       "      <td>True</td>\n",
       "      <td>NaN</td>\n",
       "      <td>5.060000e+09</td>\n",
       "      <td>168666.67</td>\n",
       "    </tr>\n",
       "    <tr>\n",
       "      <th>3295</th>\n",
       "      <td>72</td>\n",
       "      <td>2</td>\n",
       "      <td>True</td>\n",
       "      <td>True</td>\n",
       "      <td>False</td>\n",
       "      <td>NaN</td>\n",
       "      <td>9.000000e+08</td>\n",
       "      <td>30000.00</td>\n",
       "    </tr>\n",
       "    <tr>\n",
       "      <th>3315</th>\n",
       "      <td>120</td>\n",
       "      <td>2</td>\n",
       "      <td>True</td>\n",
       "      <td>True</td>\n",
       "      <td>True</td>\n",
       "      <td>NaN</td>\n",
       "      <td>1.440000e+09</td>\n",
       "      <td>48000.00</td>\n",
       "    </tr>\n",
       "    <tr>\n",
       "      <th>3318</th>\n",
       "      <td>103</td>\n",
       "      <td>2</td>\n",
       "      <td>True</td>\n",
       "      <td>True</td>\n",
       "      <td>True</td>\n",
       "      <td>NaN</td>\n",
       "      <td>1.150000e+09</td>\n",
       "      <td>38333.33</td>\n",
       "    </tr>\n",
       "    <tr>\n",
       "      <th>3355</th>\n",
       "      <td>135</td>\n",
       "      <td>3</td>\n",
       "      <td>True</td>\n",
       "      <td>True</td>\n",
       "      <td>True</td>\n",
       "      <td>NaN</td>\n",
       "      <td>1.500000e+09</td>\n",
       "      <td>50000.00</td>\n",
       "    </tr>\n",
       "    <tr>\n",
       "      <th>3401</th>\n",
       "      <td>78</td>\n",
       "      <td>2</td>\n",
       "      <td>True</td>\n",
       "      <td>False</td>\n",
       "      <td>True</td>\n",
       "      <td>NaN</td>\n",
       "      <td>7.400000e+08</td>\n",
       "      <td>24666.67</td>\n",
       "    </tr>\n",
       "    <tr>\n",
       "      <th>3434</th>\n",
       "      <td>87</td>\n",
       "      <td>2</td>\n",
       "      <td>True</td>\n",
       "      <td>True</td>\n",
       "      <td>True</td>\n",
       "      <td>NaN</td>\n",
       "      <td>6.800000e+08</td>\n",
       "      <td>22666.67</td>\n",
       "    </tr>\n",
       "  </tbody>\n",
       "</table>\n",
       "</div>"
      ],
      "text/plain": [
       "      Area  Room  Parking  Warehouse  Elevator Address         Price  \\\n",
       "43      60     2     True       True      True     NaN  2.650000e+09   \n",
       "662     85     2     True       True      True     NaN  1.955000e+09   \n",
       "706    117     2     True       True      True     NaN  6.500000e+09   \n",
       "1108    77     2     True       True     False     NaN  2.020000e+09   \n",
       "1109    71     1     True       True      True     NaN  2.300000e+09   \n",
       "1577   100     2     True       True      True     NaN  3.100000e+09   \n",
       "1796    70     2     True       True      True     NaN  4.830000e+09   \n",
       "2071    94     2     True       True      True     NaN  3.000000e+09   \n",
       "2072    99     2     True       True      True     NaN  4.150000e+09   \n",
       "2127    63     1     True       True     False     NaN  7.300000e+08   \n",
       "2243    62     2     True      False      True     NaN  1.440000e+09   \n",
       "2337    42     1    False       True     False     NaN  6.400000e+08   \n",
       "2426    65     1    False      False     False     NaN  6.500000e+08   \n",
       "2728    85     2     True       True      True     NaN  6.750000e+08   \n",
       "3025    89     2     True       True      True     NaN  3.100000e+09   \n",
       "3176    74     2     True       True      True     NaN  1.699010e+09   \n",
       "3262   115     2     True       True      True     NaN  5.060000e+09   \n",
       "3295    72     2     True       True     False     NaN  9.000000e+08   \n",
       "3315   120     2     True       True      True     NaN  1.440000e+09   \n",
       "3318   103     2     True       True      True     NaN  1.150000e+09   \n",
       "3355   135     3     True       True      True     NaN  1.500000e+09   \n",
       "3401    78     2     True      False      True     NaN  7.400000e+08   \n",
       "3434    87     2     True       True      True     NaN  6.800000e+08   \n",
       "\n",
       "      Price(USD)  \n",
       "43      88333.33  \n",
       "662     65166.67  \n",
       "706    216666.67  \n",
       "1108    67333.33  \n",
       "1109    76666.67  \n",
       "1577   103333.33  \n",
       "1796   161000.00  \n",
       "2071   100000.00  \n",
       "2072   138333.33  \n",
       "2127    24333.33  \n",
       "2243    48000.00  \n",
       "2337    21333.33  \n",
       "2426    21666.67  \n",
       "2728    22500.00  \n",
       "3025   103333.33  \n",
       "3176    56633.67  \n",
       "3262   168666.67  \n",
       "3295    30000.00  \n",
       "3315    48000.00  \n",
       "3318    38333.33  \n",
       "3355    50000.00  \n",
       "3401    24666.67  \n",
       "3434    22666.67  "
      ]
     },
     "execution_count": 493,
     "metadata": {},
     "output_type": "execute_result"
    }
   ],
   "source": [
    "df[df['Address'].isnull()]"
   ]
  },
  {
   "cell_type": "code",
   "execution_count": 494,
   "id": "fca25411",
   "metadata": {},
   "outputs": [],
   "source": [
    "df['Address']=df['Address'].fillna(0)"
   ]
  },
  {
   "cell_type": "code",
   "execution_count": 495,
   "id": "76fc1401",
   "metadata": {},
   "outputs": [
    {
     "data": {
      "text/plain": [
       "Area          0\n",
       "Room          0\n",
       "Parking       0\n",
       "Warehouse     0\n",
       "Elevator      0\n",
       "Address       0\n",
       "Price         0\n",
       "Price(USD)    0\n",
       "dtype: int64"
      ]
     },
     "execution_count": 495,
     "metadata": {},
     "output_type": "execute_result"
    }
   ],
   "source": [
    "df.isnull().sum()"
   ]
  },
  {
   "cell_type": "code",
   "execution_count": 496,
   "id": "e424ca74",
   "metadata": {},
   "outputs": [
    {
     "data": {
      "text/plain": [
       "0"
      ]
     },
     "execution_count": 496,
     "metadata": {},
     "output_type": "execute_result"
    }
   ],
   "source": [
    "df['Address'].isnull().sum()"
   ]
  },
  {
   "cell_type": "code",
   "execution_count": 497,
   "id": "cee6bbe0",
   "metadata": {},
   "outputs": [],
   "source": [
    "df['Area']=df['Area'].astype(int)"
   ]
  },
  {
   "cell_type": "code",
   "execution_count": 498,
   "id": "2a7a82a3",
   "metadata": {},
   "outputs": [
    {
     "data": {
      "image/png": "[encoded data removed]",
      "text/plain": [
       "<Figure size 432x288 with 1 Axes>"
      ]
     },
     "metadata": {
      "needs_background": "light"
     },
     "output_type": "display_data"
    }
   ],
   "source": [
    "plt.scatter(cdf.Room,cdf.Price,color='blue')\n",
    "plt.xlabel(\"Price\")\n",
    "plt.ylabel(\"Room\")\n",
    "plt.show()"
   ]
  },
  {
   "cell_type": "code",
   "execution_count": 499,
   "id": "bfb56bb7",
   "metadata": {},
   "outputs": [],
   "source": [
    "df2 = pd.get_dummies(df['Address'])\n",
    "df = pd.concat([df2,df],axis=1)\n",
    "df = df.drop('Address',axis=1)"
   ]
  },
  {
   "cell_type": "code",
   "execution_count": 500,
   "id": "d4f0a376",
   "metadata": {},
   "outputs": [],
   "source": [
    "msk = np.random.rand(len(df))<0.8\n",
    "train = df[msk]\n",
    "test = df[~msk]"
   ]
  },
  {
   "cell_type": "code",
   "execution_count": 501,
   "id": "6e240d25",
   "metadata": {},
   "outputs": [
    {
     "data": {
      "image/png": "[encoded data removed]",
      "text/plain": [
       "<Figure size 432x288 with 1 Axes>"
      ]
     },
     "metadata": {
      "needs_background": "light"
     },
     "output_type": "display_data"
    }
   ],
   "source": [
    "plt.scatter(train.Room , train.Price,color = 'blue')\n",
    "plt.xlabel(\"Price\")\n",
    "plt.ylabel(\"Room\")\n",
    "plt.show()"
   ]
  },
  {
   "cell_type": "code",
   "execution_count": 502,
   "id": "75124da8",
   "metadata": {},
   "outputs": [
    {
     "name": "stdout",
     "output_type": "stream",
     "text": [
      "coefficients: [[ 1.31570748e+01  1.93626290e+01  1.00316254e+02  3.34898246e+01\n",
      "   4.15350897e+01  5.59855646e+01 -9.53806958e+01  5.41955425e+01\n",
      "  -2.62122886e+01 -3.43591505e+00  9.81533282e+01  1.38616767e+00\n",
      "   5.35160822e+01 -2.51271747e+01 -8.00066083e+00 -2.44620555e+00\n",
      "   1.49863618e+01 -5.10570454e+00  1.15175889e+02  2.23323462e+01\n",
      "  -1.76728742e+01 -7.70003773e-07 -3.07117001e+01  9.11578184e+00\n",
      "  -9.37398320e+01  1.00167406e+00 -4.55352078e-06  6.91125452e+00\n",
      "   1.36625926e+01  9.11578875e+00  1.04221242e+00 -5.24358187e+01\n",
      "   2.78934650e+01 -2.00161804e-01 -9.94066777e+01 -9.97089589e+01\n",
      "  -4.85454253e+01 -3.16338579e+01  3.42382403e+01 -2.01306306e-06\n",
      "  -2.17393090e+01  3.37084384e+00  2.20477717e+00  5.97334349e+01\n",
      "  -2.42996074e+01  1.18866808e+01 -9.21226475e+01  9.63386373e+01\n",
      "  -7.39809568e-01 -1.81182293e+01 -5.05942274e+01  8.29957763e+00\n",
      "   5.37181950e+01 -2.03009795e+01 -1.01750941e+02 -1.82148920e+00\n",
      "   8.56571486e+01 -5.65414921e-01 -6.11983822e+00  1.01162622e+02\n",
      "  -1.00729152e+02  6.36156701e-01  5.95842452e+01  1.10346213e+00\n",
      "  -4.25390237e+01  6.05363901e+01 -5.04322109e+00 -4.45520852e-01\n",
      "  -5.06623987e+01  4.58318077e-01  7.51450054e+00  4.97487107e+01\n",
      "   8.27736820e+00 -1.28308619e-06  1.07737319e+02 -5.65985852e+00\n",
      "  -6.23335834e+00  3.70472989e+01 -1.34957084e+00 -4.92374016e+01\n",
      "  -3.15970238e+01  8.66236415e+00  2.39218678e+00  8.81741541e-01\n",
      "   2.08600282e+00 -1.03960213e+01  5.23387592e+01  4.48624548e+01\n",
      "   6.25232901e+01  5.38011031e+01  4.62840133e-01 -3.77049439e+01\n",
      "   5.08049220e+01  1.09276966e+02 -4.68320082e+00 -8.44209425e+01\n",
      "  -8.67958718e+01  3.29721085e+01  4.52727387e+01 -9.97089670e+01\n",
      "   5.07792113e+01 -3.75252014e+00  5.69103649e+01  1.06756075e+02\n",
      "   1.12056973e+02  5.30235237e+01 -2.24850510e+00  4.35374904e+00\n",
      "  -2.09425814e+01  4.88991105e+00 -8.77782613e+01  4.29270625e+00\n",
      "  -5.63567919e+00 -1.35134625e-01  3.16910532e+01  1.04606693e+02\n",
      "  -5.96533399e+00 -6.91299477e+00  2.72518455e+00 -1.90778885e+00\n",
      "   3.94616647e+00  2.03666510e+01 -3.70470182e+01  3.95564141e+00\n",
      "  -2.16013463e+01  4.70086075e+00  1.55246428e+01 -2.90725376e+01\n",
      "   6.06277666e-02  4.77944005e+01 -9.32345427e+01  6.83095570e+00\n",
      "  -3.23523835e+01  1.06291275e+02 -1.01877747e+02  1.23057527e+01\n",
      "   3.86095729e+00  9.78132616e+01 -4.91169959e+01  1.20368165e+00\n",
      "   4.36372410e-07  9.22915814e+00 -1.60221001e+01  2.69758060e+01\n",
      "  -4.37486519e+01 -1.00541246e+02  5.64927868e+01 -5.35897856e+00\n",
      "  -8.75644856e-01  1.52888761e+00  5.20770189e+01  1.36945760e+00\n",
      "  -9.88776820e+01  3.81211973e+00 -1.74407745e+01 -9.92933136e+01\n",
      "   5.06202816e+01 -2.07229303e+01 -8.87855296e+00  1.83136185e+01\n",
      "  -4.78524489e+01 -1.77029923e+00 -9.89114362e+01 -3.20272179e+01\n",
      "  -5.23766875e+00 -2.84834928e+01  7.94743096e+00 -1.15624372e+00\n",
      "   1.68797279e+01  8.96466184e+00  3.42747852e+01 -3.76936364e+01\n",
      "   9.22158679e+00 -2.79732961e+01  6.24285897e-06 -4.20348135e+01\n",
      "   5.78003242e+01 -2.76714008e+01 -1.29669095e-05 -9.75915619e+01\n",
      "  -8.68007527e+00 -9.97165121e+01 -3.48410829e+01 -2.45128817e+01\n",
      "  -1.69116971e+00  4.72630544e+01 -9.89910488e+01  1.06209784e+02\n",
      "  -2.65613892e+00 -4.01467851e+01  1.93206430e+00 -4.96946076e+01\n",
      "   2.28050205e-01  1.27686128e-09 -1.64088099e+00  8.09424317e+00\n",
      "   7.39738667e+00 -2.95638350e+00  3.00000000e+04]]\n"
     ]
    }
   ],
   "source": [
    "regr = linear_model.LinearRegression()\n",
    "x = train.drop('Price',axis = 1)\n",
    "y = train[['Price']]\n",
    "# x =x.apply(pd.to_numeric,errors ='coerce')\n",
    "# y =y.apply(pd.to_numeric,errors = 'coerce')\n",
    "regr.fit(x,y)\n",
    "print('coefficients:',regr.coef_)"
   ]
  },
  {
   "cell_type": "code",
   "execution_count": 503,
   "id": "6dac7757",
   "metadata": {},
   "outputs": [],
   "source": [
    "y_hat = regr.predict(test.drop('Price',axis=1))"
   ]
  },
  {
   "cell_type": "code",
   "execution_count": 506,
   "id": "296c3d34",
   "metadata": {},
   "outputs": [
    {
     "name": "stdout",
     "output_type": "stream",
     "text": [
      "6784.1616105000085\n",
      "0.9999999999999999\n"
     ]
    }
   ],
   "source": [
    "\n",
    "print(mean_squared_error(y_hat,test['Price']))\n",
    "print(r2_score(y_hat,test['Price']))"
   ]
  }
 ],
 "metadata": {
  "kernelspec": {
   "display_name": "Python 3",
   "language": "python",
   "name": "python3"
  },
  "language_info": {
   "codemirror_mode": {
    "name": "ipython",
    "version": 3
   },
   "file_extension": ".py",
   "mimetype": "text/x-python",
   "name": "python",
   "nbconvert_exporter": "python",
   "pygments_lexer": "ipython3",
   "version": "3.8.8"
  }
 },
 "nbformat": 4,
 "nbformat_minor": 5
}
